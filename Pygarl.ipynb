{
 "cells": [
  {
   "cell_type": "code",
   "execution_count": null,
   "metadata": {},
   "outputs": [
    {
     "name": "stdout",
     "output_type": "stream",
     "text": [
      "AUTONORMALIZE: False\n",
      "AUTOSCALE_SIZE: 500\n",
      "GESTURES: ['doubletap', 'left', 'pull', 'push', 'right', 'tapanticlockwise', 'tapclockwise', 'tap']\n",
      "MIDDLEWARES: [<pygarl.middlewares.TrimmerMiddleware object at 0x000000000E3B5630>, <pygarl.middlewares.FFTMiddleware object at 0x000000000E3B57B8>]\n",
      "Opened!\n",
      "Received gesture: right\n",
      "Received gesture: right\n",
      "Received gesture: doubletap\n",
      "Received gesture: doubletap\n",
      "Received gesture: doubletap\n",
      "Received gesture: doubletap\n",
      "Received gesture: doubletap\n",
      "Received gesture: doubletap\n",
      "Received gesture: doubletap\n",
      "Received gesture: left\n",
      "Received gesture: right\n",
      "Received gesture: left\n",
      "Received gesture: right\n",
      "Received gesture: right\n",
      "Received gesture: right\n",
      "Received gesture: right\n",
      "Received gesture: right\n"
     ]
    }
   ],
   "source": [
    "from __future__ import print_function\n",
    "from pygarl.base import CallbackManager\n",
    "from pygarl.classifiers import SVMClassifier\n",
    "from pygarl.mocks import VerboseMiddleware\n",
    "from pygarl.data_readers import SerialDataReader\n",
    "from pygarl.predictors import ClassifierPredictor\n",
    "from pygarl.sample_managers import DiscreteSampleManager\n",
    "\n",
    "MODEL_PATH=\"C:/Users/hp/gest/model.svm\"\n",
    "PORT=\"COM5\"\n",
    "\n",
    "def receive_character(number):\n",
    "    print(number)\n",
    "\n",
    "# Create the SerialDataReader\n",
    "sdr = SerialDataReader(PORT, expected_axis=6, verbose=False)\n",
    "\n",
    "# Create the SampleManager\n",
    "manager = DiscreteSampleManager()\n",
    "\n",
    "# Attach the manager\n",
    "sdr.attach_manager(manager)\n",
    "\n",
    "# Create a classifier\n",
    "classifier = SVMClassifier(model_path=MODEL_PATH)\n",
    "\n",
    "# Load the model\n",
    "classifier.load()\n",
    "\n",
    "# Print classifier info\n",
    "classifier.print_info()\n",
    "\n",
    "# Create a ClassifierPredictor\n",
    "predictor = ClassifierPredictor(classifier)\n",
    "\n",
    "# Attach the classifier predictor\n",
    "manager.attach_receiver(predictor)\n",
    "\n",
    "# Create a CallbackManager\n",
    "callback_mg = CallbackManager(verbose=True)\n",
    "\n",
    "# Attach the callback manager\n",
    "predictor.attach_callback_manager(callback_mg)\n",
    " \n",
    "# Bind all the numbers\n",
    "for c in [\"1\", \"2\", \"3\", \"4\"]:\n",
    "    callback_mg.attach_callback(c, receive_character)\n",
    "\n",
    "# Open the serial connection\n",
    "sdr.open()\n",
    "print(\"Opened!\")\n",
    "\n",
    "# Start the main loop\n",
    "sdr.mainloop()"
   ]
  },
  {
   "cell_type": "code",
   "execution_count": null,
   "metadata": {},
   "outputs": [],
   "source": []
  },
  {
   "cell_type": "code",
   "execution_count": null,
   "metadata": {},
   "outputs": [],
   "source": []
  }
 ],
 "metadata": {
  "kernelspec": {
   "display_name": "Python 2",
   "language": "python",
   "name": "python2"
  },
  "language_info": {
   "codemirror_mode": {
    "name": "ipython",
    "version": 2
   },
   "file_extension": ".py",
   "mimetype": "text/x-python",
   "name": "python",
   "nbconvert_exporter": "python",
   "pygments_lexer": "ipython2",
   "version": "2.7.16"
  }
 },
 "nbformat": 4,
 "nbformat_minor": 2
}
